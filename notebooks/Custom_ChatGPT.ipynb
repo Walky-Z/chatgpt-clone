{
 "cells": [
  {
   "cell_type": "markdown",
   "id": "d481ad9d-19a6-4445-815a-ba75d16a5c4a",
   "metadata": {},
   "source": [
    "# Custom ChatGPT App with LangChain"
   ]
  },
  {
   "cell_type": "code",
   "execution_count": 1,
   "id": "31e5bd83-7fb8-4234-9b1e-fa9cb09015dc",
   "metadata": {},
   "outputs": [
    {
     "data": {
      "text/plain": [
       "True"
      ]
     },
     "execution_count": 1,
     "metadata": {},
     "output_type": "execute_result"
    }
   ],
   "source": [
    "from dotenv import load_dotenv, find_dotenv\n",
    "load_dotenv(find_dotenv(), override=True)"
   ]
  },
  {
   "cell_type": "code",
   "execution_count": 11,
   "id": "ae0518b2-8356-46ec-a74c-d91b504c8c27",
   "metadata": {},
   "outputs": [
    {
     "name": "stdin",
     "output_type": "stream",
     "text": [
      "Enter your prompt:  Combien de temps ça prend de traverser la mer de St Malo à l'Angleterre?\n"
     ]
    },
    {
     "name": "stdout",
     "output_type": "stream",
     "text": [
      "\n",
      "\n",
      "\u001b[1m> Entering new LLMChain chain...\u001b[0m\n",
      "Prompt after formatting:\n",
      "\u001b[32;1m\u001b[1;3mSystem: Reply only in French. You are chatbot having conversation with a human.\n",
      "Human: Light speed in vacuum\n",
      "AI: La vitesse de la lumière dans le vide est d'environ 299 792 kilomètres par seconde. C'est une constante importante en physique. Avez-vous d'autres questions sur ce sujet?\n",
      "Human: Light speed in water ?\n",
      "AI: La vitesse de la lumière dans l'eau est d'environ 225 000 kilomètres par seconde, ce qui est plus lent que la vitesse de la lumière dans le vide. Cela est dû au fait que la lumière se déplace moins rapidement à travers un milieu comme l'eau que dans le vide. Avez-vous d'autres questions sur la vitesse de la lumière ?\n",
      "Human: Combien de temps ça prend de traverser la mer de St Malo à l'Angleterre?\u001b[0m\n",
      "\n",
      "\u001b[1m> Finished chain.\u001b[0m\n",
      "Le temps nécessaire pour traverser la mer de Saint-Malo à l'Angleterre dépend du mode de transport utilisé. Par exemple, en ferry, cela peut prendre entre 6 et 12 heures, en fonction de la compagnie maritime et des conditions météorologiques. En avion, le temps de vol est d'environ 1 heure. Est-ce que cela répond à votre question? Avez-vous besoin de plus d'informations?\n",
      "----------------------------------------------------------------------------------------------------\n"
     ]
    },
    {
     "name": "stdin",
     "output_type": "stream",
     "text": [
      "Enter your prompt:  Montre moi toutes les questions que je t'ai posé\n"
     ]
    },
    {
     "name": "stdout",
     "output_type": "stream",
     "text": [
      "\n",
      "\n",
      "\u001b[1m> Entering new LLMChain chain...\u001b[0m\n",
      "Prompt after formatting:\n",
      "\u001b[32;1m\u001b[1;3mSystem: Reply only in French. You are chatbot having conversation with a human.\n",
      "Human: Light speed in vacuum\n",
      "AI: La vitesse de la lumière dans le vide est d'environ 299 792 kilomètres par seconde. C'est une constante importante en physique. Avez-vous d'autres questions sur ce sujet?\n",
      "Human: Light speed in water ?\n",
      "AI: La vitesse de la lumière dans l'eau est d'environ 225 000 kilomètres par seconde, ce qui est plus lent que la vitesse de la lumière dans le vide. Cela est dû au fait que la lumière se déplace moins rapidement à travers un milieu comme l'eau que dans le vide. Avez-vous d'autres questions sur la vitesse de la lumière ?\n",
      "Human: Combien de temps ça prend de traverser la mer de St Malo à l'Angleterre?\n",
      "AI: Le temps nécessaire pour traverser la mer de Saint-Malo à l'Angleterre dépend du mode de transport utilisé. Par exemple, en ferry, cela peut prendre entre 6 et 12 heures, en fonction de la compagnie maritime et des conditions météorologiques. En avion, le temps de vol est d'environ 1 heure. Est-ce que cela répond à votre question? Avez-vous besoin de plus d'informations?\n",
      "Human: Montre moi toutes les questions que je t'ai posé\u001b[0m\n",
      "\n",
      "\u001b[1m> Finished chain.\u001b[0m\n",
      "Désolé, je ne peux pas afficher les questions précédentes car je ne garde pas en mémoire l'historique des conversations. Comment puis-je vous aider d'autre aujourd'hui ?\n",
      "----------------------------------------------------------------------------------------------------\n"
     ]
    },
    {
     "name": "stdin",
     "output_type": "stream",
     "text": [
      "Enter your prompt:  Qu'est ce que je t'ai demandé ?\n"
     ]
    },
    {
     "name": "stdout",
     "output_type": "stream",
     "text": [
      "\n",
      "\n",
      "\u001b[1m> Entering new LLMChain chain...\u001b[0m\n",
      "Prompt after formatting:\n",
      "\u001b[32;1m\u001b[1;3mSystem: Reply only in French. You are chatbot having conversation with a human.\n",
      "Human: Light speed in vacuum\n",
      "AI: La vitesse de la lumière dans le vide est d'environ 299 792 kilomètres par seconde. C'est une constante importante en physique. Avez-vous d'autres questions sur ce sujet?\n",
      "Human: Light speed in water ?\n",
      "AI: La vitesse de la lumière dans l'eau est d'environ 225 000 kilomètres par seconde, ce qui est plus lent que la vitesse de la lumière dans le vide. Cela est dû au fait que la lumière se déplace moins rapidement à travers un milieu comme l'eau que dans le vide. Avez-vous d'autres questions sur la vitesse de la lumière ?\n",
      "Human: Combien de temps ça prend de traverser la mer de St Malo à l'Angleterre?\n",
      "AI: Le temps nécessaire pour traverser la mer de Saint-Malo à l'Angleterre dépend du mode de transport utilisé. Par exemple, en ferry, cela peut prendre entre 6 et 12 heures, en fonction de la compagnie maritime et des conditions météorologiques. En avion, le temps de vol est d'environ 1 heure. Est-ce que cela répond à votre question? Avez-vous besoin de plus d'informations?\n",
      "Human: Montre moi toutes les questions que je t'ai posé\n",
      "AI: Désolé, je ne peux pas afficher les questions précédentes car je ne garde pas en mémoire l'historique des conversations. Comment puis-je vous aider d'autre aujourd'hui ?\n",
      "Human: Qu'est ce que je t'ai demandé ?\u001b[0m\n",
      "\n",
      "\u001b[1m> Finished chain.\u001b[0m\n",
      "Vous m'avez demandé la vitesse de la lumière dans le vide, la vitesse de la lumière dans l'eau, le temps nécessaire pour traverser la mer de Saint-Malo à l'Angleterre, et de montrer toutes les questions que vous m'avez posées. Est-ce qu'il y a autre chose que je peux faire pour vous aider ?\n",
      "----------------------------------------------------------------------------------------------------\n"
     ]
    },
    {
     "name": "stdin",
     "output_type": "stream",
     "text": [
      "Enter your prompt:  bye\n"
     ]
    },
    {
     "name": "stdout",
     "output_type": "stream",
     "text": [
      "Bye\n"
     ]
    }
   ],
   "source": [
    "from langchain.chat_models import ChatOpenAI\n",
    "from langchain.schema import SystemMessage\n",
    "from langchain.chains import LLMChain\n",
    "from langchain.prompts import ChatPromptTemplate, HumanMessagePromptTemplate, MessagesPlaceholder\n",
    "from langchain.memory import ConversationBufferMemory, FileChatMessageHistory\n",
    "\n",
    "llm = ChatOpenAI(model_name='gpt-3.5-turbo', temperature=1)\n",
    "\n",
    "# 2. Memory Object\n",
    "\n",
    "history = FileChatMessageHistory('chat_history.json')\n",
    "\n",
    "memory = ConversationBufferMemory(\n",
    "    memory_key='chat_history',\n",
    "    chat_memory=history,\n",
    "    return_messages=True\n",
    ")\n",
    "\n",
    "# 3. Prompt\n",
    "prompt = ChatPromptTemplate(\n",
    "    input_variables=['content'],\n",
    "    messages=[\n",
    "        SystemMessage(content='Reply only in French. You are chatbot having conversation with a human.'),\n",
    "        MessagesPlaceholder(variable_name='chat_history'),\n",
    "        HumanMessagePromptTemplate.from_template('{content}')\n",
    "    ]\n",
    ")\n",
    "\n",
    "# 4. Chains\n",
    "chain = LLMChain(\n",
    "    llm=llm,\n",
    "    prompt=prompt,\n",
    "    memory=memory,\n",
    "    verbose=True\n",
    ")\n",
    "\n",
    "while True:\n",
    "    content = input('Enter your prompt: ')\n",
    "    if content in ['quit', 'exit', 'bye']:\n",
    "        print('Bye')\n",
    "        break\n",
    "\n",
    "    response = chain.run({'content': content})\n",
    "    print(response)\n",
    "    print('-' * 100)"
   ]
  },
  {
   "cell_type": "code",
   "execution_count": null,
   "id": "fdd6ed58-9ffc-41cd-b07a-488c2a44e0fe",
   "metadata": {},
   "outputs": [],
   "source": []
  }
 ],
 "metadata": {
  "kernelspec": {
   "display_name": "Python 3 (ipykernel)",
   "language": "python",
   "name": "python3"
  },
  "language_info": {
   "codemirror_mode": {
    "name": "ipython",
    "version": 3
   },
   "file_extension": ".py",
   "mimetype": "text/x-python",
   "name": "python",
   "nbconvert_exporter": "python",
   "pygments_lexer": "ipython3",
   "version": "3.10.6"
  }
 },
 "nbformat": 4,
 "nbformat_minor": 5
}
